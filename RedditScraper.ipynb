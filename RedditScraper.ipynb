{
  "nbformat": 4,
  "nbformat_minor": 0,
  "metadata": {
    "colab": {
      "name": "RedditScraper.ipynb",
      "provenance": [],
      "collapsed_sections": [],
      "authorship_tag": "ABX9TyN2yXMkf5Rf+Ik96Uy311rn",
      "include_colab_link": true
    },
    "kernelspec": {
      "display_name": "Python 3",
      "name": "python3"
    },
    "language_info": {
      "name": "python"
    }
  },
  "cells": [
    {
      "cell_type": "markdown",
      "metadata": {
        "id": "view-in-github",
        "colab_type": "text"
      },
      "source": [
        "<a href=\"https://colab.research.google.com/github/HarriG109/Dissertation/blob/main/RedditScraper.ipynb\" target=\"_parent\"><img src=\"https://colab.research.google.com/assets/colab-badge.svg\" alt=\"Open In Colab\"/></a>"
      ]
    },
    {
      "cell_type": "markdown",
      "metadata": {
        "id": "KQ5TkhKcHmvs"
      },
      "source": [
        "Mount Google Drive for access:"
      ]
    },
    {
      "cell_type": "code",
      "metadata": {
        "colab": {
          "base_uri": "https://localhost:8080/"
        },
        "id": "RWSJpsyKqHjH",
        "outputId": "912ce4d7-c405-4954-f34e-f0ea00abc16f"
      },
      "source": [
        "from google.colab import drive\n",
        "drive.mount('/content/drive')"
      ],
      "execution_count": null,
      "outputs": [
        {
          "output_type": "stream",
          "text": [
            "Mounted at /content/drive\n"
          ],
          "name": "stdout"
        }
      ]
    },
    {
      "cell_type": "markdown",
      "metadata": {
        "id": "Dg_Z2w7pH0CE"
      },
      "source": [
        "Import needed package for API scraper use"
      ]
    },
    {
      "cell_type": "code",
      "metadata": {
        "colab": {
          "base_uri": "https://localhost:8080/"
        },
        "id": "rBhVMi4eksvn",
        "outputId": "4f828696-5522-42b5-ea26-9cd6f37d61b0"
      },
      "source": [
        "!pip install pmaw"
      ],
      "execution_count": null,
      "outputs": [
        {
          "output_type": "stream",
          "text": [
            "Collecting pmaw\n",
            "  Downloading pmaw-1.1.0-py3-none-any.whl (18 kB)\n",
            "Requirement already satisfied: requests in /usr/local/lib/python3.7/dist-packages (from pmaw) (2.23.0)\n",
            "Requirement already satisfied: certifi>=2017.4.17 in /usr/local/lib/python3.7/dist-packages (from requests->pmaw) (2021.5.30)\n",
            "Requirement already satisfied: chardet<4,>=3.0.2 in /usr/local/lib/python3.7/dist-packages (from requests->pmaw) (3.0.4)\n",
            "Requirement already satisfied: urllib3!=1.25.0,!=1.25.1,<1.26,>=1.21.1 in /usr/local/lib/python3.7/dist-packages (from requests->pmaw) (1.24.3)\n",
            "Requirement already satisfied: idna<3,>=2.5 in /usr/local/lib/python3.7/dist-packages (from requests->pmaw) (2.10)\n",
            "Installing collected packages: pmaw\n",
            "Successfully installed pmaw-1.1.0\n"
          ],
          "name": "stdout"
        }
      ]
    },
    {
      "cell_type": "markdown",
      "metadata": {
        "id": "rBtYzriBH6hr"
      },
      "source": [
        "Import needed packages"
      ]
    },
    {
      "cell_type": "code",
      "metadata": {
        "id": "fNUpLUolkQ9p"
      },
      "source": [
        "import pandas as pd"
      ],
      "execution_count": null,
      "outputs": []
    },
    {
      "cell_type": "code",
      "metadata": {
        "id": "SUWI1vkBknnH"
      },
      "source": [
        "from pmaw import PushshiftAPI"
      ],
      "execution_count": null,
      "outputs": []
    },
    {
      "cell_type": "markdown",
      "metadata": {
        "id": "JF0xKaNGH-Az"
      },
      "source": [
        "Code to grab comments"
      ]
    },
    {
      "cell_type": "code",
      "metadata": {
        "colab": {
          "base_uri": "https://localhost:8080/"
        },
        "id": "qu9EzpynlDxM",
        "outputId": "b6414a07-cc74-4549-e723-ac79a5d0866a"
      },
      "source": [
        "api = PushshiftAPI()\n",
        "\n",
        "import datetime as dt\n",
        "#Datetime: Year, Month, Day, Second, Microsecond\n",
        "before = int(dt.datetime(2021, 7, 1, 0, 0).timestamp())\n",
        "after = int(dt.datetime(2021, 1, 1, 0, 0).timestamp())\n",
        "\n",
        "#Change for each subreddit\n",
        "subreddit=\"leagueoflegends\"\n",
        "# Limit = None for no limit\n",
        "limit=None\n",
        "\n",
        "comments = api.search_comments(subreddit=subreddit,\n",
        "                               limit=limit,\n",
        "                               before=before,\n",
        "                               after=after)\n",
        "\n",
        "print(f'Retrieved {len(comments)} comments from Pushshift')\n",
        "\n",
        "##Convert to dataframe\n",
        "comments_df = pd.DataFrame(comments)\n",
        "\n",
        "#preview of the commments data\n",
        "comments_df.head(5)\n",
        "\n",
        "header=[\"body\"]\n",
        "#Use columns=header to limit columns\n",
        "comments_df.to_csv('./test_comments.csv', header=True, index=False, columns=header)"
      ],
      "execution_count": null,
      "outputs": [
        {
          "output_type": "stream",
          "text": [
            "55782 result(s) available in Pushshift\n",
            "Total:: Success Rate: 100.00% - Requests: 10 - Batches: 1 - Items Remaining: 54782\n",
            "Retrieved 1000 comments from Pushshift\n"
          ],
          "name": "stdout"
        }
      ]
    },
    {
      "cell_type": "markdown",
      "metadata": {
        "id": "kAVExuhoIDLk"
      },
      "source": [
        "Output CSV into Google Drive"
      ]
    },
    {
      "cell_type": "code",
      "metadata": {
        "id": "lc34pRSkGISC",
        "colab": {
          "base_uri": "https://localhost:8080/"
        },
        "outputId": "e1842e3e-ec3c-4b87-8f2b-8ec8b15bff0e"
      },
      "source": [
        "!mv \"/content/test.csv\" \"/content/drive/MyDrive/\""
      ],
      "execution_count": null,
      "outputs": [
        {
          "output_type": "stream",
          "text": [
            "mv: cannot stat '/content/test.csv': No such file or directory\n"
          ],
          "name": "stdout"
        }
      ]
    }
  ]
}