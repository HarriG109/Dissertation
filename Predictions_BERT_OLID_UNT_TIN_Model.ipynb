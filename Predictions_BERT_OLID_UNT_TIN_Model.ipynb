{
  "nbformat": 4,
  "nbformat_minor": 0,
  "metadata": {
    "accelerator": "GPU",
    "colab": {
      "name": "Predictions BERT OLID UNT_TIN Model.ipynb",
      "provenance": [],
      "collapsed_sections": [],
      "include_colab_link": true
    },
    "kernelspec": {
      "display_name": "Python 3",
      "name": "python3"
    }
  },
  "cells": [
    {
      "cell_type": "markdown",
      "metadata": {
        "id": "view-in-github",
        "colab_type": "text"
      },
      "source": [
        "<a href=\"https://colab.research.google.com/github/HarriG109/Dissertation/blob/main/Predictions_BERT_OLID_UNT_TIN_Model.ipynb\" target=\"_parent\"><img src=\"https://colab.research.google.com/assets/colab-badge.svg\" alt=\"Open In Colab\"/></a>"
      ]
    },
    {
      "cell_type": "markdown",
      "metadata": {
        "id": "EKOTlwcmxmej"
      },
      "source": [
        "# Running Predictions with Finalised Model"
      ]
    },
    {
      "cell_type": "markdown",
      "metadata": {
        "id": "szS13GIkFZhG"
      },
      "source": [
        "Check available GPU:"
      ]
    },
    {
      "cell_type": "code",
      "metadata": {
        "id": "DEfSbAA4QHas"
      },
      "source": [
        "import tensorflow as tf\n",
        "\n",
        "# Get the GPU device name.\n",
        "device_name = tf.test.gpu_device_name()\n",
        "\n",
        "# The device name should look like the following:\n",
        "if device_name == '/device:GPU:0':\n",
        "    print('Found GPU at: {}'.format(device_name))\n",
        "else:\n",
        "    raise SystemError('GPU device not found')"
      ],
      "execution_count": null,
      "outputs": []
    },
    {
      "cell_type": "code",
      "metadata": {
        "id": "oYsV4H8fCpZ-"
      },
      "source": [
        "import torch\n",
        "\n",
        "# If there's a GPU available...\n",
        "if torch.cuda.is_available():    \n",
        "\n",
        "    # Tell PyTorch to use the GPU.    \n",
        "    device = torch.device(\"cuda\")\n",
        "\n",
        "    print('There are %d GPU(s) available.' % torch.cuda.device_count())\n",
        "\n",
        "    print('We will use the GPU:', torch.cuda.get_device_name(0))\n",
        "\n",
        "# If not...\n",
        "else:\n",
        "    print('No GPU available, using the CPU instead.')\n",
        "    device = torch.device(\"cpu\")"
      ],
      "execution_count": null,
      "outputs": []
    },
    {
      "cell_type": "markdown",
      "metadata": {
        "id": "KTn9euFfFpdg"
      },
      "source": [
        "Install transformers package:"
      ]
    },
    {
      "cell_type": "code",
      "metadata": {
        "id": "0NmMdkZO8R6q"
      },
      "source": [
        "!pip install transformers"
      ],
      "execution_count": null,
      "outputs": []
    },
    {
      "cell_type": "markdown",
      "metadata": {
        "id": "q7fFLLWLFwRr"
      },
      "source": [
        "Mount Google Drive:"
      ]
    },
    {
      "cell_type": "code",
      "metadata": {
        "id": "RWSJpsyKqHjH"
      },
      "source": [
        "from google.colab import drive\n",
        "drive.mount('/content/drive', force_remount=True)"
      ],
      "execution_count": null,
      "outputs": []
    },
    {
      "cell_type": "markdown",
      "metadata": {
        "id": "qIKkcfkKF3bC"
      },
      "source": [
        "Load the saved tokenizer:"
      ]
    },
    {
      "cell_type": "code",
      "metadata": {
        "id": "Z474sSC6oe7A"
      },
      "source": [
        "from transformers import BertTokenizer\n",
        "\n",
        "# Load the BERT tokenizer.\n",
        "print('Loading BERT tokenizer...')\n",
        "output_dir = \"/content/drive/MyDrive/Model/BERT Model/UNTTIN\"\n",
        "tokenizer = BertTokenizer.from_pretrained(output_dir)"
      ],
      "execution_count": null,
      "outputs": []
    },
    {
      "cell_type": "markdown",
      "metadata": {
        "id": "kd-m_I5iGCvU"
      },
      "source": [
        "Load the saved BERT model:"
      ]
    },
    {
      "cell_type": "code",
      "metadata": {
        "id": "gFsCTp_mporB"
      },
      "source": [
        "from transformers import BertForSequenceClassification, BertConfig\n",
        "\n",
        "# Load BertForSequenceClassification, the pretrained BERT model with a single \n",
        "# linear classification layer on top. \n",
        "model = BertForSequenceClassification.from_pretrained(output_dir)\n",
        "\n",
        "# Tell pytorch to run this model on the GPU.\n",
        "model.cuda()"
      ],
      "execution_count": null,
      "outputs": []
    },
    {
      "cell_type": "markdown",
      "metadata": {
        "id": "YHTH5xlDGLs2"
      },
      "source": [
        "Import data for running predictions:"
      ]
    },
    {
      "cell_type": "code",
      "metadata": {
        "id": "GbYdDScf6uAj"
      },
      "source": [
        "import pandas as pd\n",
        "\n",
        "# Load the dataset into a pandas dataframe.\n",
        "results = pd.read_csv(\"/content/drive/MyDrive/Data/Reddit Data/Predictions_OFF/skyrim_predictions_all.csv\", delimiter=',', header=None, names=['sentence','label_a'])\n",
        "#Subset for only offensive which can be targeted or not\n",
        "label_a = results['label_a'].values\n",
        "keep = label_a != 'NOT'\n",
        "results_f = results[keep]\n",
        "\n",
        "# Report the number of sentences.\n",
        "print('Number of test sentences: {:,}\\n'.format(results_f.shape[0]))\n",
        "\n",
        "# Create sentence and label lists\n",
        "sentences = results_f.sentence.values\n",
        "\n",
        "#Create array of identifiers\n",
        "\n",
        "target_names = ['TIN', 'UNT']"
      ],
      "execution_count": null,
      "outputs": []
    },
    {
      "cell_type": "markdown",
      "metadata": {
        "id": "og30RyucGS9l"
      },
      "source": [
        "Create function for applying model:"
      ]
    },
    {
      "cell_type": "code",
      "metadata": {
        "id": "XP3OdfNC1t28"
      },
      "source": [
        "def get_prediction(text):\n",
        "    # prepare our text into tokenized sequence\n",
        "    inputs = tokenizer(text, padding=True, truncation=True, max_length=510, return_tensors=\"pt\").to(\"cuda\")\n",
        "    # perform inference to our model\n",
        "    with torch.no_grad():\n",
        "      outputs = model(**inputs)\n",
        "      # get output probabilities by doing softmax\n",
        "      probs = outputs[0].softmax(1)\n",
        "      \n",
        "    # executing argmax function to get the candidate label\n",
        "    return target_names[probs.argmax()]"
      ],
      "execution_count": null,
      "outputs": []
    },
    {
      "cell_type": "markdown",
      "metadata": {
        "id": "H3v6NcTkGdAO"
      },
      "source": [
        "Loop through posts using function to get classification per post:"
      ]
    },
    {
      "cell_type": "code",
      "metadata": {
        "id": "CNhhCypE2X34"
      },
      "source": [
        "import pandas as pd\n",
        "\n",
        "final = pd.DataFrame(columns=['sent', 'unt_tin'])\n",
        "for sent in sentences:\n",
        "  to_append = [sent, str(get_prediction(sent))]\n",
        "  final_ln = len(final)\n",
        "  final.loc[final_ln] = to_append"
      ],
      "execution_count": null,
      "outputs": []
    },
    {
      "cell_type": "markdown",
      "metadata": {
        "id": "vdo67LLhGjZP"
      },
      "source": [
        "Output prediction results"
      ]
    },
    {
      "cell_type": "code",
      "metadata": {
        "id": "c892w_ygg1_e"
      },
      "source": [
        "#Write to CSV\n",
        "final.to_csv('./skyrim_predictions_TIN.csv', header=False, index=False)"
      ],
      "execution_count": null,
      "outputs": []
    },
    {
      "cell_type": "code",
      "metadata": {
        "id": "lc34pRSkGISC"
      },
      "source": [
        "!mv \"/content/skyrim_predictions_TIN.csv\" \"/content/drive/MyDrive/Data/Reddit Data/Predictions_TIN\""
      ],
      "execution_count": null,
      "outputs": []
    }
  ]
}