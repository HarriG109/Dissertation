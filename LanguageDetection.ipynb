{
  "nbformat": 4,
  "nbformat_minor": 0,
  "metadata": {
    "colab": {
      "name": "LanguageDetection.ipynb",
      "provenance": [],
      "collapsed_sections": [],
      "authorship_tag": "ABX9TyPyvzhQ0H8AHdk84TITau0U",
      "include_colab_link": true
    },
    "kernelspec": {
      "name": "python3",
      "display_name": "Python 3"
    },
    "language_info": {
      "name": "python"
    }
  },
  "cells": [
    {
      "cell_type": "markdown",
      "metadata": {
        "id": "view-in-github",
        "colab_type": "text"
      },
      "source": [
        "<a href=\"https://colab.research.google.com/github/HarriG109/Dissertation/blob/main/LanguageDetection.ipynb\" target=\"_parent\"><img src=\"https://colab.research.google.com/assets/colab-badge.svg\" alt=\"Open In Colab\"/></a>"
      ]
    },
    {
      "cell_type": "markdown",
      "metadata": {
        "id": "L4q3_TgPxP-K"
      },
      "source": [
        "Install needed package:"
      ]
    },
    {
      "cell_type": "code",
      "metadata": {
        "colab": {
          "base_uri": "https://localhost:8080/"
        },
        "id": "0fxI9ExqsFH4",
        "outputId": "afc66880-59b6-4d63-eda3-2384c961df8b"
      },
      "source": [
        "!pip install langdetect"
      ],
      "execution_count": null,
      "outputs": [
        {
          "output_type": "stream",
          "text": [
            "Collecting langdetect\n",
            "  Downloading langdetect-1.0.9.tar.gz (981 kB)\n",
            "\u001b[K     |████████████████████████████████| 981 kB 5.1 MB/s \n",
            "\u001b[?25hRequirement already satisfied: six in /usr/local/lib/python3.7/dist-packages (from langdetect) (1.15.0)\n",
            "Building wheels for collected packages: langdetect\n",
            "  Building wheel for langdetect (setup.py) ... \u001b[?25l\u001b[?25hdone\n",
            "  Created wheel for langdetect: filename=langdetect-1.0.9-py3-none-any.whl size=993241 sha256=7249b1c3ee7d78d148bfd3779b64e8ea450f52ac123d8483da47ab49c72f914f\n",
            "  Stored in directory: /root/.cache/pip/wheels/c5/96/8a/f90c59ed25d75e50a8c10a1b1c2d4c402e4dacfa87f3aff36a\n",
            "Successfully built langdetect\n",
            "Installing collected packages: langdetect\n",
            "Successfully installed langdetect-1.0.9\n"
          ],
          "name": "stdout"
        }
      ]
    },
    {
      "cell_type": "markdown",
      "metadata": {
        "id": "E5t_-sdkxVkB"
      },
      "source": [
        "Mount Drive:"
      ]
    },
    {
      "cell_type": "code",
      "metadata": {
        "colab": {
          "base_uri": "https://localhost:8080/"
        },
        "id": "LuYe-bm1qYAb",
        "outputId": "dee7c03d-49f2-4744-ca79-1a5d48927e1a"
      },
      "source": [
        "from google.colab import drive\n",
        "drive.mount('/content/drive')"
      ],
      "execution_count": null,
      "outputs": [
        {
          "output_type": "stream",
          "text": [
            "Drive already mounted at /content/drive; to attempt to forcibly remount, call drive.mount(\"/content/drive\", force_remount=True).\n"
          ],
          "name": "stdout"
        }
      ]
    },
    {
      "cell_type": "markdown",
      "metadata": {
        "id": "D5xnDe3OxbG1"
      },
      "source": [
        "Import language detection modules:"
      ]
    },
    {
      "cell_type": "code",
      "metadata": {
        "id": "a7kDD9hAq754"
      },
      "source": [
        "from langdetect import detect\n",
        "from langdetect import DetectorFactory\n",
        "#Set seed for same replication\n",
        "DetectorFactory.seed = 0"
      ],
      "execution_count": null,
      "outputs": []
    },
    {
      "cell_type": "markdown",
      "metadata": {
        "id": "sPpZ6f6pxkTk"
      },
      "source": [
        "Import file to apply language detection to:"
      ]
    },
    {
      "cell_type": "code",
      "metadata": {
        "id": "aSBfO7qpqdJs"
      },
      "source": [
        "import random\n",
        "import pandas as pd\n",
        "\n",
        "# Load the dataset into a pandas dataframe.\n",
        "data = pd.read_csv(\"/content/drive/MyDrive/Data/Reddit Data/Fully_Clean/amongus_langtest-clean.csv\", header=None, names=['sentence'])\n",
        "\n",
        "# Create sentence and label lists\n",
        "sentences = data.sentence.values"
      ],
      "execution_count": null,
      "outputs": []
    },
    {
      "cell_type": "markdown",
      "metadata": {
        "id": "22RX7V0JxuSG"
      },
      "source": [
        "Apply language detection:"
      ]
    },
    {
      "cell_type": "code",
      "metadata": {
        "id": "ddRWoKOWqyoo"
      },
      "source": [
        "final = pd.DataFrame(columns=['sent', 'language'])\n",
        "for sent in sentences:\n",
        "\n",
        "  # Step to apply only to non-URL and alphanumeric character posts to avoid halting the language detection\n",
        "  if sent[0].isalpha() and sent[0:4] != \"http\":\n",
        "    to_append = [sent, detect(sent)]\n",
        "\n",
        "    final_ln = len(final)\n",
        "    final.loc[final_ln] = to_append\n",
        "  ## Set avoided to posts to their own abbreviation of NA\n",
        "  else:\n",
        "    to_append = [sent, \"NA\"]\n",
        "\n",
        "    final_ln = len(final)\n",
        "    final.loc[final_ln] = to_append  "
      ],
      "execution_count": null,
      "outputs": []
    },
    {
      "cell_type": "markdown",
      "metadata": {
        "id": "pQ4WQw0nyVlD"
      },
      "source": [
        "Output final file as CSV:"
      ]
    },
    {
      "cell_type": "code",
      "metadata": {
        "id": "UnvpBddnrstD"
      },
      "source": [
        "#Write to CSV\n",
        "final.to_csv('./lang_test.csv', header=False, index=False)"
      ],
      "execution_count": null,
      "outputs": []
    },
    {
      "cell_type": "code",
      "metadata": {
        "id": "ONpFBY6gruXx"
      },
      "source": [
        "!mv \"/content/lang_test.csv\" \"/content/drive/MyDrive/\""
      ],
      "execution_count": null,
      "outputs": []
    }
  ]
}